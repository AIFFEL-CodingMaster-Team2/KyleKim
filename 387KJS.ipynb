{
 "cells": [
  {
   "cell_type": "code",
   "execution_count": null,
   "metadata": {},
   "outputs": [],
   "source": [
    "class Solution: \n",
    "    def firstUniqChar(self, s: str) -> int: \n",
    "        ans_index = -1 # 해당되는 값이 없을 경우를 대비해서 default값을 -1로 두기\n",
    "        s = list(s) #문자열을 리스트화. \n",
    "        cnt_dict = collections.Counter(s)#collections의 counter함수를 통해 딕셔너리 반환\n",
    "        i = 0 #s의 인덱스 표시용\n",
    "        for word in s: \n",
    "            if cnt_dict[word] == 1:#딕셔니리의 value값이 각 글자의 갯수를 뜻함. 문자열의 처음부터 반복하면 반복되지 않는 글자찾기 \n",
    "                ans_index = i #1인 경우가 나오면 그 값을 갖고 for문 탈출\n",
    "                break \n",
    "            i = i + 1 \n",
    "        return ans_index\n"
   ]
  }
 ],
 "metadata": {
  "kernelspec": {
   "display_name": "Python 3",
   "language": "python",
   "name": "python3"
  },
  "language_info": {
   "codemirror_mode": {
    "name": "ipython",
    "version": 3
   },
   "file_extension": ".py",
   "mimetype": "text/x-python",
   "name": "python",
   "nbconvert_exporter": "python",
   "pygments_lexer": "ipython3",
   "version": "3.7.9"
  }
 },
 "nbformat": 4,
 "nbformat_minor": 4
}
