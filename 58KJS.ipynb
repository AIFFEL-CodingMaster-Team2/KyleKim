{
 "cells": [
  {
   "cell_type": "code",
   "execution_count": null,
   "metadata": {},
   "outputs": [],
   "source": [
    "class Solution: # 제 풀이(36ms)\n",
    "    def lengthOfLastWord(self, s: str) -> int:\n",
    "        words = s.strip().split(' ')#좌우 공백을 지우고 공백을 기준으로 나눔(문자열->리스트)\n",
    "        if len(words) == 0:#입력이 공백으로만 이루어져있거나, 아예 입력이 없는 경우에 리스트가 0 -> 0을 반환 \n",
    "            answer = 0 \n",
    "        else: \n",
    "            words = words[-1] #아닌 경우에 마지막 글자의 길이를 반환\n",
    "            answer = len(words) \n",
    "        return answer\n"
   ]
  },
  {
   "cell_type": "code",
   "execution_count": null,
   "metadata": {},
   "outputs": [],
   "source": [
    "class Solution: #24ms(따로 변수에 저장X)\n",
    "    def lengthOfLastWord(self, s: str) -> int:\n",
    "        words = s.strip().split(' ')#좌우 공백을 지우고 공백을 기준으로 나눔(문자열->리스트)\n",
    "        if len(words) == 0:#입력이 공백으로만 이루어져있거나, 아예 입력이 없는 경우에 리스트가 0 -> 0을 반환 \n",
    "            return 0\n",
    "        else:  #아닌 경우에 마지막 글자의 길이를 반환\n",
    "            return len(words[-1]) "
   ]
  },
  {
   "cell_type": "code",
   "execution_count": 1,
   "metadata": {},
   "outputs": [],
   "source": [
    "class Solution: #가장 짧은 시간복잡도(16ms)(if문제거, split교환)\n",
    "    def lengthOfLastWord(self, s: str) -> int:\n",
    "        words = s.split()\n",
    "        if len(words) == 0:\n",
    "            return 0\n",
    "        return len(words[-1])"
   ]
  },
  {
   "cell_type": "code",
   "execution_count": null,
   "metadata": {},
   "outputs": [],
   "source": [
    ">>> s = \" A  B \" #split() vs split(\" \")\n",
    ">>> s.split()\n",
    "['A', 'B']\n",
    ">>> s.split(\" \")\n",
    "['', 'A', '', 'B', '']"
   ]
  },
  {
   "cell_type": "code",
   "execution_count": 1,
   "metadata": {},
   "outputs": [
    {
     "data": {
      "text/plain": [
       "['', 'A\\t', '', '\\t\\n\\rB', '']"
      ]
     },
     "execution_count": 1,
     "metadata": {},
     "output_type": "execute_result"
    }
   ],
   "source": [
    ">>> s = \" A\\t  \\t\\n\\rB \" #괄호 안에 아무 값도 넣어 주지 않으면 공백(스페이스, 탭, 엔터 등)을 기준으로 문자열을 나누어 준다.\n",
    ">>> s.split()\n",
    "['A', 'B']\n",
    ">>> s.split(\" \")\n",
    "['', 'A\\t', '', '\\t\\n\\rB', '']"
   ]
  },
  {
   "cell_type": "code",
   "execution_count": null,
   "metadata": {},
   "outputs": [],
   "source": [
    "return len(s.strip().split(' ')[-1]) #3번째 항목에 적용해보기"
   ]
  }
 ],
 "metadata": {
  "kernelspec": {
   "display_name": "aiffel",
   "language": "python",
   "name": "aiffel"
  },
  "language_info": {
   "codemirror_mode": {
    "name": "ipython",
    "version": 3
   },
   "file_extension": ".py",
   "mimetype": "text/x-python",
   "name": "python",
   "nbconvert_exporter": "python",
   "pygments_lexer": "ipython3",
   "version": "3.7.9"
  }
 },
 "nbformat": 4,
 "nbformat_minor": 4
}
