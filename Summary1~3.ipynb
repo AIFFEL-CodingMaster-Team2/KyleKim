{
 "cells": [
  {
   "cell_type": "markdown",
   "metadata": {},
   "source": [
    "### range() 함수로 이터러블 객체 생성.  \n",
    "range(n)은 0부터 n미만  \n",
    "range(a, b)는 a부터 b미만  \n",
    "range(a, b, c)는 a부터 b미만까지 c간격으로 나열하는 수열 \n",
    "\n",
    "### 두 값을 교환하는 법  \n",
    "a, b = b, a  \n",
    "b, a를 통해서 튜플(b, a)가 만들어지고  \n",
    "대입할 때 튜플을 풀어 각각 a, b에 대입.  \n",
    "  "
   ]
  },
  {
   "cell_type": "markdown",
   "metadata": {},
   "source": [
    "### f문자열 포맷팅  \n",
    "프린트문에 f를 넣고 {}안에 변수명을 넣으면 그 값이 들어가서 출력된다.  "
   ]
  },
  {
   "cell_type": "code",
   "execution_count": 2,
   "metadata": {},
   "outputs": [
    {
     "name": "stdout",
     "output_type": "stream",
     "text": [
      "홍길동은 26살입니다.\n"
     ]
    }
   ],
   "source": [
    "name = '홍길동'\n",
    "age = '26'\n",
    "print(f'{name}은 {age}살입니다.')"
   ]
  },
  {
   "cell_type": "markdown",
   "metadata": {},
   "source": [
    "### 출력형태  \n",
    "print문 안에 end='~'이 있으면 ~에 있는 것이 뒤에 붙고 다음 줄로 넘어가지 않고 이어서 출력된다.  \n",
    "f'{\"출력할 내용\":채울것(없어도됨)정렬순서(<,>,^, 없으면 그냥 왼쪽 정렬)크기}'\n",
    "f'{소수저장된변수:총자리수(0부터 표현할길이까지는 변함없음).숫자(소수점 몇번째까지 표시)f}'"
   ]
  },
  {
   "cell_type": "code",
   "execution_count": 10,
   "metadata": {},
   "outputs": [
    {
     "name": "stdout",
     "output_type": "stream",
     "text": [
      "0+1+2+"
     ]
    }
   ],
   "source": [
    "for i in range(3):\n",
    "    print(i, end='+')"
   ]
  },
  {
   "cell_type": "code",
   "execution_count": 23,
   "metadata": {},
   "outputs": [
    {
     "name": "stdout",
     "output_type": "stream",
     "text": [
      "hi        \n",
      "        hi\n",
      "hi        @@@@hi@@@@\n",
      "3.4213\n",
      " 3.4213\n"
     ]
    }
   ],
   "source": [
    "print(f'{\"hi\":<10}')\n",
    "print(f'{\"hi\":>10}')\n",
    "print(f'{\"hi\":10}', end='')\n",
    "print(f'{\"hi\":@^10}')\n",
    "\n",
    "y=3.42134234\n",
    "#3.4213즉 6칸이므로 변함없다.\n",
    "print(f'{y:6.4f}')\n",
    "print(f'{y:7.4f}')"
   ]
  },
  {
   "cell_type": "markdown",
   "metadata": {},
   "source": [
    "### break문  \n",
    "반복문에서 break를 사용하면 아래 코드는 실행하지 않고 바로 반복문을 탈출한다.  \n",
    "이중 반복일 경우 2번째 반복문에서 조건문을 통해 break하면 첫번째 반복문의 다음진행.\n",
    "\n",
    "### continue문\n",
    "반복문에서 조건문을 통해 continue를 만나게 되면 아래 구문을 실행하지 않고 반복문 다음번으로 넘어간다.(탈출X)\n",
    "\n",
    "### 드모르간의 법칙  \n",
    "x and y는 not(not x or not y)와 같다.  \n",
    "x or y는 not(not x and not y)와 같다.  \n",
    "\n",
    "### 난수 생성  \n",
    "random.randint(a, b)는 a이상 b이하 난수반환  \n",
    "\n",
    "### 변수  \n",
    "파이썬에서 데이터, 함수, 클래스, 모듈, 패키지는 모두 객체로 취급.  \n",
    "객체는 자료형을 가지며 메모리를 차지하며 식별변호(id)를 가진다..  \n",
    "파이썬의 변수는 값을 갖지 않는다.  \n",
    "변수는 객체를 참조하는 객체의 이름."
   ]
  },
  {
   "cell_type": "code",
   "execution_count": 24,
   "metadata": {},
   "outputs": [
    {
     "name": "stdout",
     "output_type": "stream",
     "text": [
      "94099378681088\n",
      "94099378681088\n"
     ]
    }
   ],
   "source": [
    "n = 17\n",
    "# 다른 언어처럼 변수에 값 복사X\n",
    "# 객체 17을 n으로 참조\n",
    "print(id(17))\n",
    "print(id(n))"
   ]
  },
  {
   "cell_type": "markdown",
   "metadata": {},
   "source": [
    "### 리스트(수정가능한(뮤터블) 이터러블 자료형)\n",
    "빈 리스트는 두가지 방법으로 만들 수 있다.\n",
    "```\n",
    "list01 = []\n",
    "list02 = list()\n",
    "```\n",
    "리스트에 넣을 갯수가 정해지면 아래 같이 선언할 수도 있다.\n",
    "```\n",
    "list04 = [None] * 5\n",
    "#이때는 인덱스를 지정해서 값을 대입해도 된다.\n",
    "list04[0] = 0\n",
    "#list01에 추가할 경우에는 append를 사용하면 된다.\n",
    "list01.append(0)\n",
    "```\n",
    "값이 변경되는 것은 값을 복사하는 것이 아니라, 값을 참조하는 객체의 식별번호변경.(리스트, 딕셔너리, 집합으로 뮤터블 자료형)  \n",
    "딕셔너리의 키로 사용 불가능  \n",
    "리스트 컴프리헨션  \n",
    "아래 두 코드는 같다.  \n",
    "```\n",
    "twise = []\n",
    "numbers = [1, 2, 3, 4, 5]\n",
    "for num in numbers:\n",
    "  if num% 2 == 1:\n",
    "    twise.append(num * 2)\n",
    "```\n",
    "```\n",
    "numbers = [1, 2, 3, 4, 5]\n",
    "twise = [num * 2 for num in numbers if num % 2 == 1]\n",
    "```\n",
    "\n"
   ]
  },
  {
   "cell_type": "markdown",
   "metadata": {},
   "source": [
    "### 튜플(수정불가능한(이뮤터블) 이터러블 자료형)\n",
    "튜플선언\n",
    "```\n",
    "#빈 튜플\n",
    "tuple01 = ()\n",
    "#원소가 하나일 경우 반드시 뒤에 ,를 붙여야 한다.\n",
    "tuple02 = (1,)\n",
    "tuple03 = 1,\n",
    "```\n",
    "딕셔너리의 키로 사용가능"
   ]
  },
  {
   "cell_type": "markdown",
   "metadata": {},
   "source": [
    "### 리스트, 튜플 공통점\n",
    "range()를 안에 넣을 수 있다.\n",
    "```\n",
    "list03 = list(range(7))\n",
    "tuple04=tuple(range(7))\n",
    "```\n",
    "언팩\n",
    "```\n",
    "x = [1, 2, 3]\n",
    "a, b, c = x\n",
    "y = (1, 2, 3)\n",
    "d, e, f = y\n",
    "```\n",
    "슬라이스식 접근\n",
    "```\n",
    "#s[i]부터 s[j-1]까지 k씩 건너가며 나열\n",
    "s[i:j:k]\n",
    "#맨 끝에서 n개까지 출력\n",
    "s[-n:]\n",
    "#맨앞부터 k개씩 건너뛰며 출력\n",
    "s[::k]\n",
    "#맨끝에서부터 전부 출력\n",
    "s[::-1]\n",
    "```\n",
    "\n",
    "등가성과 동일성은 다르다  \n",
    "등가성은 ==, 동일성은 is로 확인.  \n",
    "등가성은 값만, 동일성은 식별번호(id)까지 비교."
   ]
  }
 ],
 "metadata": {
  "kernelspec": {
   "display_name": "Python 3",
   "language": "python",
   "name": "python3"
  },
  "language_info": {
   "codemirror_mode": {
    "name": "ipython",
    "version": 3
   },
   "file_extension": ".py",
   "mimetype": "text/x-python",
   "name": "python",
   "nbconvert_exporter": "python",
   "pygments_lexer": "ipython3",
   "version": "3.7.6"
  }
 },
 "nbformat": 4,
 "nbformat_minor": 4
}
