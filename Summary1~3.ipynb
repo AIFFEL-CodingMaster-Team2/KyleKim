{
 "cells": [
  {
   "cell_type": "markdown",
   "metadata": {},
   "source": [
    "### range() 함수로 이터러블 객체 생성.  \n",
    "range(n)은 0부터 n미만  \n",
    "range(a, b)는 a부터 b미만  \n",
    "range(a, b, c)는 a부터 b미만까지 c간격으로 나열하는 수열 \n",
    "\n",
    "### 두 값을 교환하는 법  \n",
    "a, b = b, a  \n",
    "b, a를 통해서 튜플(b, a)가 만들어지고  \n",
    "대입할 때 튜플을 풀어 각각 a, b에 대입.  \n",
    "  "
   ]
  },
  {
   "cell_type": "markdown",
   "metadata": {},
   "source": [
    "### f문자열 포맷팅  \n",
    "프린트문에 f를 넣고 {}안에 변수명을 넣으면 그 값이 들어가서 출력된다.  "
   ]
  },
  {
   "cell_type": "code",
   "execution_count": 1,
   "metadata": {},
   "outputs": [],
   "source": [
    "name = '홍길동'\n",
    "age = '26'\n",
    "print(f'{name}은 {age}살입니다.')"
   ]
  },
  {
   "cell_type": "markdown",
   "metadata": {},
   "source": [
    "### 출력형태  \n",
    "print문 안에 end='~'이 있으면 ~에 있는 것이 뒤에 붙고 다음 줄로 넘어가지 않고 이어서 출력된다.  \n",
    "f'{\"출력할 내용\":채울것(없어도됨)정렬순서(<,>,^, 없으면 그냥 왼쪽 정렬)크기}'\n",
    "f'{소수저장된변수:총자리수(0부터 표현할길이까지는 변함없음).숫자(소수점 몇번째까지 표시)f}'"
   ]
  },
  {
   "cell_type": "code",
   "execution_count": 2,
   "metadata": {},
   "outputs": [],
   "source": [
    "for i in range(3):\n",
    "    print(i, end='+')"
   ]
  },
  {
   "cell_type": "code",
   "execution_count": 3,
   "metadata": {},
   "outputs": [],
   "source": [
    "print(f'{\"hi\":<10}')\n",
    "print(f'{\"hi\":>10}')\n",
    "print(f'{\"hi\":10}', end='')\n",
    "print(f'{\"hi\":@^10}')\n",
    "\n",
    "y=3.42134234\n",
    "#3.4213즉 6칸이므로 변함없다.\n",
    "print(f'{y:6.4f}')\n",
    "print(f'{y:7.4f}')"
   ]
  },
  {
   "cell_type": "markdown",
   "metadata": {},
   "source": [
    "### break문  \n",
    "반복문에서 break를 사용하면 아래 코드는 실행하지 않고 바로 반복문을 탈출한다.  \n",
    "이중 반복일 경우 2번째 반복문에서 조건문을 통해 break하면 첫번째 반복문의 다음진행.\n",
    "\n",
    "### continue문\n",
    "반복문에서 조건문을 통해 continue를 만나게 되면 아래 구문을 실행하지 않고 반복문 다음번으로 넘어간다.(탈출X)\n",
    "\n",
    "### 드모르간의 법칙  \n",
    "x and y는 not(not x or not y)와 같다.  \n",
    "x or y는 not(not x and not y)와 같다.  \n",
    "\n",
    "### 난수 생성  \n",
    "random.randint(a, b)는 a이상 b이하 난수반환  \n",
    "\n",
    "### 변수  \n",
    "파이썬에서 데이터, 함수, 클래스, 모듈, 패키지는 모두 객체로 취급.  \n",
    "객체는 자료형을 가지며 메모리를 차지하며 식별변호(id)를 가진다..  \n",
    "파이썬의 변수는 값을 갖지 않는다.  \n",
    "변수는 객체를 참조하는 객체의 이름."
   ]
  },
  {
   "cell_type": "code",
   "execution_count": 4,
   "metadata": {},
   "outputs": [],
   "source": [
    "n = 17\n",
    "# 다른 언어처럼 변수에 값 복사X\n",
    "# 객체 17을 n으로 참조\n",
    "print(id(17))\n",
    "print(id(n))"
   ]
  },
  {
   "cell_type": "markdown",
   "metadata": {},
   "source": [
    "### 리스트(수정가능한(뮤터블) 이터러블 자료형)\n",
    "빈 리스트는 두가지 방법으로 만들 수 있다.\n",
    "```\n",
    "list01 = []\n",
    "list02 = list()\n",
    "```\n",
    "리스트에 넣을 갯수가 정해지면 아래 같이 선언할 수도 있다.\n",
    "```\n",
    "list04 = [None] * 5\n",
    "#이때는 인덱스를 지정해서 값을 대입해도 된다.\n",
    "list04[0] = 0\n",
    "#list01에 추가할 경우에는 append를 사용하면 된다.\n",
    "list01.append(0)\n",
    "```\n",
    "값이 변경되는 것은 값을 복사하는 것이 아니라, 값을 참조하는 객체의 식별번호변경.(리스트, 딕셔너리, 집합으로 뮤터블 자료형)  \n",
    "딕셔너리의 키로 사용 불가능  \n",
    "리스트 컴프리헨션  \n",
    "아래 두 코드는 같다.  \n",
    "```\n",
    "twise = []\n",
    "numbers = [1, 2, 3, 4, 5]\n",
    "for num in numbers:\n",
    "  if num% 2 == 1:\n",
    "    twise.append(num * 2)\n",
    "```\n",
    "```\n",
    "numbers = [1, 2, 3, 4, 5]\n",
    "twise = [num * 2 for num in numbers if num % 2 == 1]\n",
    "```\n",
    "\n"
   ]
  },
  {
   "cell_type": "markdown",
   "metadata": {},
   "source": [
    "### 튜플(수정불가능한(이뮤터블) 이터러블 자료형)\n",
    "튜플선언\n",
    "```\n",
    "#빈 튜플\n",
    "tuple01 = ()\n",
    "#원소가 하나일 경우 반드시 뒤에 ,를 붙여야 한다.\n",
    "tuple02 = (1,)\n",
    "tuple03 = 1,\n",
    "```\n",
    "딕셔너리의 키로 사용가능"
   ]
  },
  {
   "cell_type": "markdown",
   "metadata": {},
   "source": [
    "### 리스트, 튜플 공통점\n",
    "range()를 안에 넣을 수 있다.\n",
    "```\n",
    "list03 = list(range(7))\n",
    "tuple04=tuple(range(7))\n",
    "```\n",
    "언팩\n",
    "```\n",
    "x = [1, 2, 3]\n",
    "a, b, c = x\n",
    "y = (1, 2, 3)\n",
    "d, e, f = y\n",
    "```\n",
    "슬라이스식 접근\n",
    "```\n",
    "#s[i]부터 s[j-1]까지 k씩 건너가며 나열\n",
    "s[i:j:k]\n",
    "#맨 끝에서 n개까지 출력\n",
    "s[-n:]\n",
    "#맨앞부터 k개씩 건너뛰며 출력\n",
    "s[::k]\n",
    "#맨끝에서부터 전부 출력\n",
    "s[::-1]\n",
    "```\n",
    "\n",
    "등가성과 동일성은 다르다  \n",
    "등가성은 ==, 동일성은 is로 확인.  \n",
    "등가성은 값만, 동일성은 식별번호(id)까지 비교."
   ]
  },
  {
   "cell_type": "markdown",
   "metadata": {},
   "source": [
    "### 순차검색은 첫번째 값을 최댓값으로 하고 나머지 배열을 순서대로 크기비교해서 크면 바꾸는 방식으로 한다.  \n",
    "```\n",
    "def max_of(a):\n",
    "  maximum = a[0]\n",
    "  for i in range(1, len(a)):\n",
    "    if a[i] > maximum:\n",
    "      maximum = a[i]\n",
    "```  \n",
    "### f포매팅은 이렇게도 쓰인다.\n",
    "```\n",
    "x[i] = int(input(f'x[{i}]값을 입력하세요.: '))  \n",
    "```\n",
    "### 함수 어노테이션-> C언어처럼 함수의 매개변수, 반환값을 명시해준다.  \n",
    "Any는 제약이 없는 자료형이고, Sequence는 시퀀스형으로 리스트형, 바이트배열, 문자열, 튜플, 바이트열이 있다.\n",
    "```\n",
    "from typing import Any, Sequence\n",
    "def max_of(a: Sequence) -> Any:\n",
    "```\n",
    "  \n",
    "### 모듈\n",
    "파이썬에서 하나의 스크립트 프로그램을 모듈이라고 한다.  \n",
    "main인 경우는 현재 스크립트 파일이 실행.\n",
    "```\n",
    "if __name__=='__main__':\n",
    "# 스크립트 프로그램이 임포트되면 __name__은 모듈이름이 된다.\n",
    "# from max(모듈) import max_of(함수)\n",
    "```\n",
    "### 난수생성\n",
    "```\n",
    "import random\n",
    "for i in range(num):\n",
    "  x[i] = random.randint(lo, hi)#lo이상, hi이하\n",
    "```\n",
    "### 동일성판단\n",
    "```\n",
    "list1 = [1, 2, 3, 4, 5]\n",
    "list2 = [1, 2, 3, 4, 5]\n",
    "list1 is list2 -> False\n",
    "\n",
    "list3 = list1\n",
    "list1 is list3 -> True\n",
    "```\n",
    "\n",
    "### enumerate()"
   ]
  },
  {
   "cell_type": "code",
   "execution_count": 1,
   "metadata": {},
   "outputs": [
    {
     "name": "stdout",
     "output_type": "stream",
     "text": [
      "x[0] = John\n",
      "x[1] = George\n",
      "x[2] = Paul\n",
      "x[3] = Ringo\n"
     ]
    }
   ],
   "source": [
    "# 인덱스대로 출력\n",
    "x = ['John', 'George', 'Paul', 'Ringo']\n",
    "\n",
    "for i, name in enumerate(x):\n",
    "  print(f'x[{i}] = {name}')"
   ]
  },
  {
   "cell_type": "code",
   "execution_count": 2,
   "metadata": {},
   "outputs": [
    {
     "name": "stdout",
     "output_type": "stream",
     "text": [
      "1번째 = John\n",
      "2번째 = George\n",
      "3번째 = Paul\n",
      "4번째 = Ringo\n"
     ]
    }
   ],
   "source": [
    "#사람이 인지하는 순서 1번째부터출력\n",
    "for i, name in enumerate(x, 1):\n",
    "  print(f'{i}번째 = {name}')"
   ]
  },
  {
   "cell_type": "code",
   "execution_count": 3,
   "metadata": {},
   "outputs": [
    {
     "name": "stdout",
     "output_type": "stream",
     "text": [
      "John\n",
      "George\n",
      "Paul\n",
      "Ringo\n"
     ]
    }
   ],
   "source": [
    "# 그냥 출력\n",
    "for i in x:\n",
    "  print(i)"
   ]
  },
  {
   "cell_type": "markdown",
   "metadata": {},
   "source": [
    "### 배열역순정렬 알고리즘\n",
    "홀수면 가운데는 변하지 않아도 되서 몫만 반환\n",
    "```\n",
    "for i in range(n // 2):\n",
    "  a[i], a[n-i-1] = a[n-i-1], a[i]\n",
    "```\n",
    "a.reverse()를 쓰면 반복자가 반환되는 것이기에 리스트를 역순으로 정렬하여 대입하려면 아래와 같이 해야 한다.  \n",
    "```\n",
    "y = list(a.reverse())\n",
    "```\n"
   ]
  },
  {
   "cell_type": "markdown",
   "metadata": {},
   "source": [
    "### 기수변환(n진수 구하기)  \n",
    "16진수는 0 ~ F까지.  "
   ]
  },
  {
   "cell_type": "code",
   "execution_count": 6,
   "metadata": {},
   "outputs": [],
   "source": [
    "# x를 r진수로 바꾸고 문자열로 반환하는 코드\n",
    "def card_conv(x: int, r: int) -> str:\n",
    "    d = ''\n",
    "    dchar = '0123456789ABCDEFGHIJKLMNOPQRSTUVWXYZ'\n",
    "    \n",
    "    while x > 0:\n",
    "        d += dchar[x%r]# 나머지 인덱스\n",
    "        x//=r # 몫을 할당해서 다시 나누기.\n",
    "        \n",
    "    return d[::-1] #들어간 순서가 역순이니까 반대로 출력"
   ]
  },
  {
   "cell_type": "code",
   "execution_count": 7,
   "metadata": {},
   "outputs": [
    {
     "name": "stdout",
     "output_type": "stream",
     "text": [
      "10진수를 n진수로 변환합니다.\n",
      "변환할 값으로 음이 아닌 정수를 입력하세요.: 32\n",
      "어떤 진수로 변환할까요?: 5\n",
      "5진수로는 112입니다.\n",
      "한번 더 변환할까요?(Y=예/N=아니오): N\n"
     ]
    }
   ],
   "source": [
    "if __name__=='__main__':\n",
    "    print('10진수를 n진수로 변환합니다.')\n",
    "    \n",
    "    while True:\n",
    "        while True: \n",
    "            no = int(input('변환할 값으로 음이 아닌 정수를 입력하세요.: '))\n",
    "            if no > 0:\n",
    "                break # 양수면 두번째 while문 탈출.\n",
    "        \n",
    "        while True:\n",
    "            cd = int(input('어떤 진수로 변환할까요?: '))\n",
    "            if 2 <= cd <= 36:\n",
    "                break #2진수부터 36진수로 변환.\n",
    "        \n",
    "        print(f'{cd}진수로는 {card_conv(no, cd)}입니다.')\n",
    "        \n",
    "        retry = input(\"한번 더 변환할까요?(Y=예/N=아니오): \")\n",
    "        if retry in {'N', 'n'}:\n",
    "            break #N, n이면 첫번째 while문 탈출\n",
    "        "
   ]
  },
  {
   "cell_type": "markdown",
   "metadata": {},
   "source": [
    "### 매개변수와 인수.  \n",
    "함수를 실행하는 시점에서 매개변수는 실제 인수와 같은 객체를 참조.  \n",
    "함수에서 매개변수의 값이 변경할때 인수의 형에 따라 다르게 작용한다.  \n",
    "인수가 이뮤터블(수정불가능한): 함수 안에서 매개변수의 값을 변경하면 다른 객체를 생성하고 그 객체에 대한 참조로 업데이트. 고로 실제인수에 영향이 없다.  \n",
    "인수가 뮤터블(수정가능한): 함수 안에서 매개변수의 값을 변경하면 객체 자체를 업데이트한다. 실제 인수의 값도 바뀐다.  "
   ]
  },
  {
   "cell_type": "markdown",
   "metadata": {},
   "source": [
    "### 소수 나열하기  \n",
    "n이 소수면 2 ~ n-1의 어떤 정수로도 나눠져서 떨어지지 않는다. ->이 방식이면 모든 정수로 나눠봐야 한다. 좀더 개선시켜보자.  \n",
    "n이 소수면 2 ~ n-1의 어떤 소수로도 나눠져서 떨어지지 않는다. ->이 방식을 채용하면 소수를 따로 저장해야 한다."
   ]
  },
  {
   "cell_type": "code",
   "execution_count": null,
   "metadata": {},
   "outputs": [],
   "source": [
    "counter = 0 #나눗셈 횟수\n",
    "ptr = 0 #이미 찾은 소수 갯수\n",
    "prime = [None] * 500 #소수저장공간\n",
    "\n",
    "prime[ptr] = 2 # 2가 소수임을 알기에 초깃값으로 넣는다.\n",
    "ptr += 1\n",
    "\n",
    "for n in range(3, 1001, 2): #짝수는 2로 나눠지는 것을 알기에 홀수만 점검한다.\n",
    "    for i in range(1, ptr):\n",
    "        counter += 1\n",
    "        if n % prime[i] == 0:# 소수 저장공간들의 소수로 나눠지면 합성수-> 다음수 검사. \n",
    "            break\n",
    "        else: # 소수로 안 나눠지면 소수.\n",
    "            prime[ptr] = n\n",
    "            ptr += 1\n",
    "    \n",
    "for i in range(ptr):\n",
    "    print(prime[i])\n",
    "print(f'나눗셈을 실행한 횟수: {counter}')"
   ]
  },
  {
   "cell_type": "markdown",
   "metadata": {},
   "source": [
    "기준을 좀더 개선해보자.  \n",
    "약수의 쌍들을 보면 가운데를 기점으로 자리만 바뀐 것임을 알 수 있다.  \n",
    "소수인지 검사할 n의 제곱근이하의 어떤 소수로 나눠 떨어지지 않으면 n은 소수입니다.  "
   ]
  },
  {
   "cell_type": "code",
   "execution_count": null,
   "metadata": {},
   "outputs": [],
   "source": [
    "counter = 0 #나눗셈 횟수\n",
    "ptr = 0 #이미 찾은 소수 갯수\n",
    "prime = [None] * 500 #소수저장공간\n",
    "\n",
    "# 2,3은 이미 소수임을 알기에 넣는다.\n",
    "prime[ptr] = 2\n",
    "ptr += 1\n",
    "\n",
    "prime[ptr] = 3\n",
    "ptr += 1\n",
    "\n",
    "for n in range(5, 1001, 2): #짝수는 2로 나눠지는 것을 알기에 홀수만 점검한다.\n",
    "    i = 1\n",
    "    while prime[i] * prime[i] <= n:\n",
    "        counter += 2\n",
    "        if n % prime[i] == 0:# 소수 저장공간들의 소수로 나눠지면 합성수-> 다음수 검사. \n",
    "            break\n",
    "        i += 1 # 다음 소수\n",
    "    else: # 소수로 안 나눠지면 소수.\n",
    "        prime[ptr] = n\n",
    "        ptr += 1\n",
    "        counter += 1\n",
    "        \n",
    "for i in range(ptr):\n",
    "    print(prime[i])\n",
    "print(f'나눗셈을 실행한 횟수: {counter}')"
   ]
  },
  {
   "cell_type": "markdown",
   "metadata": {},
   "source": [
    "### 얕은 복사와 깊은 복사  \n",
    "얕은 복사는 copy()사용.  \n",
    "```\n",
    "y=x.copy()\n",
    "```  \n",
    "모든 원소가 참조하는 곳까지 복사하기에 원본이 바뀌면 복사한 것도 영향을 받는다.  \n",
    "  \n",
    "깊은 복사는 deepcoy()사용.  \n",
    "**import copy 필수!**  \n",
    "원소 수준의 복사를 하며 원본에 영향을 받지 않는다.\n",
    "```\n",
    "import copy\n",
    "y = copy.deepcopy(x)\n",
    "```\n"
   ]
  },
  {
   "cell_type": "markdown",
   "metadata": {},
   "source": [
    "## 검색 알고리즘  \n",
    "1. 배열검색\n",
    "2. 연결 리스트 검색\n",
    "3. 이진 검색 트리 검색\n",
    "우리가 여기서 배울 것은 배열 검색으로 선형검색, 이진 검색, 해시법(체인법, 오픈 주소법)이 있다.  "
   ]
  },
  {
   "cell_type": "markdown",
   "metadata": {},
   "source": [
    "# p111부터 다시하자."
   ]
  },
  {
   "cell_type": "markdown",
   "metadata": {},
   "source": [
    "## 스택&큐  \n",
    "스택은 LIFO(Last In First Out)방식으로 push, pop을 하는 부분을 top(last)이라고 하고 반대부분(first)을 bottom이라고 한다.  "
   ]
  },
  {
   "cell_type": "markdown",
   "metadata": {},
   "source": [
    "## 스택구현  \n",
    "### 스택배열: stk  \n",
    "데이터를 저장한 스택본체인 list형 배열, 인덱스가 0인 곳이 bottom.  \n",
    "\n",
    "### 스택 크기: capacity  \n",
    "스택의 최대 크기를 나타내는 int형 정수. len(stk)와 같다.  \n",
    "\n",
    "### 스택 포인터: ptr  \n",
    "스택에 쌓여있는 데이터의 개수를 나타내는 정수값이 스택포인터. 그렇기에 스택이 비어있으면 포인터는 0이 되고, 스택이 가득 차면 capacity(len(stk))와 같다. 스택포인터는 반드시 0이상 capacity 값인데, ==가 아닌 >=,<=로 판단하도록 안전하게 설계한다.  \n",
    "\n",
    "### 예외 처리 클래스 Empty  \n",
    "pop(), peek()를 호출시 스택이 비어있으면 내보낸다.  \n",
    "\n",
    "### 예외 처리 클래스 Full\n",
    "push()를 호출시 스택이 꽉 차 있으면 내보낸다.\n",
    "\n",
    "### 초기화하는 __init__()함수  \n",
    "스택 배열을 생성하는 준비작업 수행.  \n",
    "capacity로 전달받은 스택크기의 모든 원소가 None인 리스트형 stk 생성. 스택 포인터를 0으로 한다.  \n",
    "\n",
    "### 쌓여있는 데이터 갯수를 확인하는 __len__()함수  \n",
    "스택에 쌓여있는 데이터 개수(스택포인터값)반환.  \n",
    "\n",
    "### 스택이 비어있는지 판단하는 is_empty()함수  \n",
    "스택이 비어있으면 True, 아니면 False 반환  \n",
    "\n",
    "### 스택이 가득 차 있는지 판단하는 is_full()함수  \n",
    "스택이 가득 차 있으면 True, 아니면 False 반환.  \n"
   ]
  },
  {
   "cell_type": "code",
   "execution_count": 3,
   "metadata": {},
   "outputs": [
    {
     "ename": "NameError",
     "evalue": "name 'exception' is not defined",
     "output_type": "error",
     "traceback": [
      "\u001b[0;31m---------------------------------------------------------------------------\u001b[0m",
      "\u001b[0;31mNameError\u001b[0m                                 Traceback (most recent call last)",
      "\u001b[0;32m<ipython-input-3-26a3d82c09ab>\u001b[0m in \u001b[0;36m<module>\u001b[0;34m\u001b[0m\n\u001b[1;32m      3\u001b[0m \u001b[0;32mfrom\u001b[0m \u001b[0mtyping\u001b[0m \u001b[0;32mimport\u001b[0m \u001b[0mAny\u001b[0m\u001b[0;34m\u001b[0m\u001b[0;34m\u001b[0m\u001b[0m\n\u001b[1;32m      4\u001b[0m \u001b[0;34m\u001b[0m\u001b[0m\n\u001b[0;32m----> 5\u001b[0;31m \u001b[0;32mclass\u001b[0m \u001b[0mFixedStack\u001b[0m\u001b[0;34m:\u001b[0m\u001b[0;34m\u001b[0m\u001b[0;34m\u001b[0m\u001b[0m\n\u001b[0m\u001b[1;32m      6\u001b[0m \u001b[0;34m\u001b[0m\u001b[0m\n\u001b[1;32m      7\u001b[0m     \u001b[0;32mclass\u001b[0m \u001b[0mEmpty\u001b[0m\u001b[0;34m(\u001b[0m\u001b[0mException\u001b[0m\u001b[0;34m)\u001b[0m\u001b[0;34m:\u001b[0m\u001b[0;34m\u001b[0m\u001b[0;34m\u001b[0m\u001b[0m\n",
      "\u001b[0;32m<ipython-input-3-26a3d82c09ab>\u001b[0m in \u001b[0;36mFixedStack\u001b[0;34m()\u001b[0m\n\u001b[1;32m      7\u001b[0m     \u001b[0;32mclass\u001b[0m \u001b[0mEmpty\u001b[0m\u001b[0;34m(\u001b[0m\u001b[0mException\u001b[0m\u001b[0;34m)\u001b[0m\u001b[0;34m:\u001b[0m\u001b[0;34m\u001b[0m\u001b[0;34m\u001b[0m\u001b[0m\n\u001b[1;32m      8\u001b[0m         \u001b[0;32mpass\u001b[0m\u001b[0;34m\u001b[0m\u001b[0;34m\u001b[0m\u001b[0m\n\u001b[0;32m----> 9\u001b[0;31m     \u001b[0;32mclass\u001b[0m \u001b[0mFull\u001b[0m\u001b[0;34m(\u001b[0m\u001b[0mexception\u001b[0m\u001b[0;34m)\u001b[0m\u001b[0;34m:\u001b[0m\u001b[0;34m\u001b[0m\u001b[0;34m\u001b[0m\u001b[0m\n\u001b[0m\u001b[1;32m     10\u001b[0m         \u001b[0;32mpass\u001b[0m\u001b[0;34m\u001b[0m\u001b[0;34m\u001b[0m\u001b[0m\n\u001b[1;32m     11\u001b[0m     \u001b[0;32mdef\u001b[0m \u001b[0m__int__\u001b[0m\u001b[0;34m(\u001b[0m\u001b[0mself\u001b[0m\u001b[0;34m,\u001b[0m \u001b[0mcapacity\u001b[0m\u001b[0;34m:\u001b[0m \u001b[0mint\u001b[0m \u001b[0;34m=\u001b[0m \u001b[0;36m256\u001b[0m\u001b[0;34m)\u001b[0m \u001b[0;34m->\u001b[0m \u001b[0;32mNone\u001b[0m\u001b[0;34m:\u001b[0m\u001b[0;34m\u001b[0m\u001b[0;34m\u001b[0m\u001b[0m\n",
      "\u001b[0;31mNameError\u001b[0m: name 'exception' is not defined"
     ]
    }
   ],
   "source": [
    "# 고정 길이 스택 클래스 FixedStack 구현.\n",
    "\n",
    "from typing import Any\n",
    "\n",
    "class FixedStack:\n",
    "    \n",
    "    class Empty(Exception):\n",
    "        pass\n",
    "    class Full(exception):\n",
    "        pass\n",
    "    def __int__(self, capacity: int = 256) -> None:\n",
    "        self.stk = [None] * capacity\n",
    "        self.capacity = capacity\n",
    "        self.ptr = 0\n",
    "    def __len__(self) -> int:\n",
    "        return self.ptr\n",
    "    \n",
    "    def is_empty(self) -> bool:\n",
    "        return self.ptr <= 0\n",
    "    def is_full(self) -> bool:\n",
    "        return self.ptr >= self.capacity"
   ]
  },
  {
   "cell_type": "markdown",
   "metadata": {},
   "source": [
    "## 예외처리의 기본구조\n",
    "\n",
    "### try문\n",
    "try: 원래처리  \n",
    "except: 예외 포착과 처리 (1개이상)  \n",
    "else: 예외가 포착되지 않음(생략가능)  \n",
    "finally:마무리.(생략가능)  \n",
    "\n",
    "### try-finally문  \n",
    "try:  \n",
    "finally:  \n",
    "\n",
    "### push()함수  \n",
    "스택에 데이터를 추가.  \n",
    "스택이 꽉 차있으면 FixedStack.Full을 통해 예외처리 내보냄.  \n",
    "스택이 차있지 않으면 전달받은 value를 stk[ptr]에 넣고 스택 포인터 ptr 1을 증가  \n",
    "\n",
    "### pop()함수  \n",
    "스택의 꼭대기에서 데이터를 꺼내서 값을 반환.  \n",
    "스택이 비어있다면 FixedStack.Empty를 통해 예외처리 내보냄.  \n",
    "스택이 비어있지 않으면 ptr값을 1 감소시키고 stk[ptr]에 저장된 값을 반환\n",
    "\n",
    "### peek()함수  \n",
    "스택의 꼭대기 데이터(다음에 팝할 데이터)를 들여다본다.  \n",
    "스택이 비어있다면 FixedStack.Empty를 통해 예외처리 내보냄.  \n",
    "스택이 비어있지 않다면 stk[ptr-1]의 값을 반환.  \n",
    "데이터 입출력이 없으므로 스택포인터 변화x "
   ]
  },
  {
   "cell_type": "code",
   "execution_count": null,
   "metadata": {},
   "outputs": [],
   "source": [
    "def push(self, value: Any) -> None:\n",
    "    if self.is_full():\n",
    "        raise FixedStack.Full\n",
    "    self.stk[self.ptr] = value\n",
    "    self.ptr += 1\n",
    "\n",
    "def pop(self) -> Any:\n",
    "    if self.is_empty():\n",
    "        raise FixedStack.Empty\n",
    "    self.ptr -= 1\n",
    "    return self.stk[self.ptr]\n",
    "\n",
    "def peek(self) -> Any:\n",
    "    if self.is_empty():\n",
    "        raise FixedStack.Empty\n",
    "    return self.stk[self.ptr - 1]\n",
    "\n",
    "def clear(self) -> None:\n",
    "    self.ptr = 0"
   ]
  },
  {
   "cell_type": "markdown",
   "metadata": {},
   "source": [
    "### clear()함수\n",
    "스택에 쌓여있는 데이터를 모두 삭제하여 빈 스택을 만든다.\n",
    "\n",
    "### raise문을 통한 예외 처리"
   ]
  }
 ],
 "metadata": {
  "kernelspec": {
   "display_name": "Python 3",
   "language": "python",
   "name": "python3"
  },
  "language_info": {
   "codemirror_mode": {
    "name": "ipython",
    "version": 3
   },
   "file_extension": ".py",
   "mimetype": "text/x-python",
   "name": "python",
   "nbconvert_exporter": "python",
   "pygments_lexer": "ipython3",
   "version": "3.7.6"
  }
 },
 "nbformat": 4,
 "nbformat_minor": 4
}
