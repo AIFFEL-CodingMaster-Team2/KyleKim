{
 "cells": [
  {
   "cell_type": "code",
   "execution_count": null,
   "metadata": {},
   "outputs": [],
   "source": [
    "class Solution: #40ms\n",
    "    def simplifyPath(self, path: str) -> str:\n",
    "        #a = \"/home/\"\n",
    "        a = path\n",
    "        a = a.replace(\"//\", \"/\")#//을 /로 바꾸기\n",
    "        print(a)\n",
    "        b = [] #합칠 것들을 저장할 리스트\n",
    "        a = a.split('/') # /를 기준으로 나누기\n",
    "        print(a)\n",
    "        for n in range(len(a)):\n",
    "            #if a[n] == '..' and b: #..인경우 상위폴더로 이동하기 때문에 현재 위치 팝해야 하는데, 저장할 리스트가 비어있으면 팝안함.\n",
    "                b.pop()\n",
    "                #if b:\n",
    "                #    print(\"pop\")\n",
    "            if a[n] == '..':\n",
    "                if b:\n",
    "                    b.pop()\n",
    "            if a[n] and a[n] != '.': #.는 현재 위치이므로 넣을 필요가 없다.\n",
    "                b.append(a[n])\n",
    "                print(b)\n",
    "        joined_str=\"/\".join(b) # 리스트 b를 합친다.\n",
    "      \n",
    "        return(\"/\" + joined_str) #맨 앞에 /가 있어야 함으로 더해서 반환"
   ]
  },
  {
   "cell_type": "code",
   "execution_count": null,
   "metadata": {},
   "outputs": [],
   "source": [
    "from collections import deque #12ms\n",
    "class Solution:\n",
    "    def simplifyPath(self, path: str) -> str:\n",
    "        s = deque()\n",
    "        for node in path.split('/'):\n",
    "            if node == '..':\n",
    "                if s:\n",
    "                    s.pop()\n",
    "            elif node and node != '.':\n",
    "                s.append(node)\n",
    "        return \"/\" + \"/\".join(s)"
   ]
  },
  {
   "cell_type": "code",
   "execution_count": 3,
   "metadata": {},
   "outputs": [
    {
     "name": "stdout",
     "output_type": "stream",
     "text": [
      "['/home//foo/./..//ssac']\n",
      "['', 'home', '', 'foo', '.', '..', '', 'ssac']\n"
     ]
    }
   ],
   "source": [
    "a = \"/home//foo/./..//ssac\"\n",
    "c = a.split(\"/\")\n",
    "print(b)\n",
    "print(c)\n",
    "#리스트 사용시 추가하는 시간복잡도는 O(1), 삭제는 O(N)\n",
    "#queue의 경우는 둘다 O(1)\n",
    "#https://daimhada.tistory.com/56"
   ]
  }
 ],
 "metadata": {
  "kernelspec": {
   "display_name": "Python 3",
   "language": "python",
   "name": "python3"
  },
  "language_info": {
   "codemirror_mode": {
    "name": "ipython",
    "version": 3
   },
   "file_extension": ".py",
   "mimetype": "text/x-python",
   "name": "python",
   "nbconvert_exporter": "python",
   "pygments_lexer": "ipython3",
   "version": "3.7.9"
  }
 },
 "nbformat": 4,
 "nbformat_minor": 4
}
