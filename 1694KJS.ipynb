{
 "cells": [
  {
   "cell_type": "code",
   "execution_count": null,
   "metadata": {},
   "outputs": [],
   "source": [
    "class Solution:\n",
    "    def reformatNumber(self, number: str) -> str:\n",
    "        number = number.replace(' ', '').replace('-', '') #받은 문자열의 -, 공백 제거\n",
    "        print(number)\n",
    "        res = [] #분리한 문자열을 넣어놓을 리스트\n",
    "        num1 = len(number)//3 #받은 문자열을 3으로 나눴을때의 몫\n",
    "        num2 = len(number)%3 #받은 문자열을 3으로 나눴을때의 나머지\n",
    "        num3 = len(number) #받은 문자열의 길이\n",
    "        print(len(number)//3)\n",
    "        print(len(number)%3)\n",
    "        for i in range(num1-1): #문자열의 몫보다 하나 작은 횟수동안 3개씩 묶어서 리스트에 넣기\n",
    "            res.append(number[ : 3])\n",
    "            print(number)\n",
    "            number = number[3 : ]\n",
    "            print(number)\n",
    "        \n",
    "        if num2 == 1: #나머지가 1일 경우 2, 2개씩 리스트에 추가\n",
    "            res.append(number[0:2])\n",
    "            res.append(number[2:4])\n",
    "        elif num2 == 2:   #나머지가 2일경우 3, 2개씩 리스트에 추가\n",
    "            res.append(number[0:3])\n",
    "            res.append(number[3:5])\n",
    "        else: #나머지가 0일경우 3개 리스트에 추가(몫-1만큼 반복한 이유)\n",
    "            res.append(number[0:3])\n",
    "        \n",
    "        if num3 <= 3: #받은 문자열의 길이가 3보다 작으면 -없이 합치기\n",
    "            return ''.join(res)\n",
    "        else: #받은 문자열의 길이가 3보다 크면 - 넣고 합치기\n",
    "            return '-'.join(res)"
   ]
  }
 ],
 "metadata": {
  "kernelspec": {
   "display_name": "Python 3",
   "language": "python",
   "name": "python3"
  },
  "language_info": {
   "codemirror_mode": {
    "name": "ipython",
    "version": 3
   },
   "file_extension": ".py",
   "mimetype": "text/x-python",
   "name": "python",
   "nbconvert_exporter": "python",
   "pygments_lexer": "ipython3",
   "version": "3.7.9"
  }
 },
 "nbformat": 4,
 "nbformat_minor": 4
}
