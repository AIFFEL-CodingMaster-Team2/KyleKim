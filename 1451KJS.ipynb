{
 "cells": [
  {
   "cell_type": "code",
   "execution_count": null,
   "metadata": {},
   "outputs": [],
   "source": [
    "class Solution:\n",
    "    def arrangeWords(self, text: str) -> str:\n",
    "        text = text.lower() #모든 문자열 대문자->소문자\n",
    "        s = text.split() #공백을 기준으로 문자열 나누기. 리스트반환\n",
    "        s.sort(key=len) #길이를 기준으로 리스트를 재배열\n",
    "        res = ' '.join(s) #공백을 넣어서 합치기(리스트->문자열)\n",
    "        res = res.capitalize() #가장 첫 글자를 대문자화하기\n",
    "        print(res)\n",
    "        return res"
   ]
  }
 ],
 "metadata": {
  "kernelspec": {
   "display_name": "Python 3",
   "language": "python",
   "name": "python3"
  },
  "language_info": {
   "codemirror_mode": {
    "name": "ipython",
    "version": 3
   },
   "file_extension": ".py",
   "mimetype": "text/x-python",
   "name": "python",
   "nbconvert_exporter": "python",
   "pygments_lexer": "ipython3",
   "version": "3.7.9"
  }
 },
 "nbformat": 4,
 "nbformat_minor": 4
}
